{
 "cells": [
  {
   "cell_type": "code",
   "execution_count": 3,
   "id": "0b9c5158",
   "metadata": {},
   "outputs": [
    {
     "ename": "SyntaxError",
     "evalue": "invalid syntax (<ipython-input-3-ed915e4c81b6>, line 1)",
     "output_type": "error",
     "traceback": [
      "\u001b[1;36m  File \u001b[1;32m\"<ipython-input-3-ed915e4c81b6>\"\u001b[1;36m, line \u001b[1;32m1\u001b[0m\n\u001b[1;33m    Welcome to MC Cafe\u001b[0m\n\u001b[1;37m            ^\u001b[0m\n\u001b[1;31mSyntaxError\u001b[0m\u001b[1;31m:\u001b[0m invalid syntax\n"
     ]
    }
   ],
   "source": [
    "Welcome to MC Cafe\n",
    "\n",
    "would you like to order\n",
    "\n",
    "tax is 6%\n",
    "\n",
    "Espresso - $1.50\n",
    "Americano - $2.00\n",
    "Caffe latte - $2.25\n",
    "Mocha - $2.25\n",
    "cappucino - $2.50\n",
    "Machiatto - $2.50\n",
    "\n",
    "Tea\n",
    "\n",
    "White tea - $1.50\n",
    "green tea - $2.00\n",
    "oolong tea - $2.25\n",
    "black tea - $2.25\n",
    "earl grey - $2.50\n",
    "matcha tea - $2.50\n",
    "\n",
    "Pastries\n",
    "\n",
    "croissant - $5.50\n",
    "cinnamon roll - $4.40\n",
    "banana bread - $3.75\n",
    "sticky bun - $4.25\n",
    "apple turnover - $3.75\n",
    "\n",
    "Thank you for visiting MC Cafe\n"
   ]
  },
  {
   "cell_type": "code",
   "execution_count": null,
   "id": "63a0d1d0",
   "metadata": {},
   "outputs": [],
   "source": []
  }
 ],
 "metadata": {
  "kernelspec": {
   "display_name": "Python 3",
   "language": "python",
   "name": "python3"
  },
  "language_info": {
   "codemirror_mode": {
    "name": "ipython",
    "version": 3
   },
   "file_extension": ".py",
   "mimetype": "text/x-python",
   "name": "python",
   "nbconvert_exporter": "python",
   "pygments_lexer": "ipython3",
   "version": "3.8.8"
  }
 },
 "nbformat": 4,
 "nbformat_minor": 5
}
